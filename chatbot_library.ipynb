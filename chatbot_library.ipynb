{
  "nbformat": 4,
  "nbformat_minor": 0,
  "metadata": {
    "colab": {
      "provenance": [],
      "authorship_tag": "ABX9TyOImnG5sGlKTxTWIUNg0Qcd",
      "include_colab_link": true
    },
    "kernelspec": {
      "name": "python3",
      "display_name": "Python 3"
    },
    "language_info": {
      "name": "python"
    }
  },
  "cells": [
    {
      "cell_type": "markdown",
      "metadata": {
        "id": "view-in-github",
        "colab_type": "text"
      },
      "source": [
        "<a href=\"https://colab.research.google.com/github/smitha-19/chatbot-library/blob/main/chatbot_library.ipynb\" target=\"_parent\"><img src=\"https://colab.research.google.com/assets/colab-badge.svg\" alt=\"Open In Colab\"/></a>"
      ]
    },
    {
      "cell_type": "code",
      "execution_count": null,
      "metadata": {
        "colab": {
          "base_uri": "https://localhost:8080/"
        },
        "id": "qH-kyNhC57on",
        "outputId": "70344248-8858-485c-fd10-dd4ae1d1feea"
      },
      "outputs": [
        {
          "output_type": "stream",
          "name": "stdout",
          "text": [
            "Collecting streamlit\n",
            "  Downloading streamlit-1.47.0-py3-none-any.whl.metadata (9.0 kB)\n",
            "Collecting pyngrok\n",
            "  Downloading pyngrok-7.2.12-py3-none-any.whl.metadata (9.4 kB)\n",
            "Requirement already satisfied: altair<6,>=4.0 in /usr/local/lib/python3.11/dist-packages (from streamlit) (5.5.0)\n",
            "Requirement already satisfied: blinker<2,>=1.5.0 in /usr/local/lib/python3.11/dist-packages (from streamlit) (1.9.0)\n",
            "Requirement already satisfied: cachetools<7,>=4.0 in /usr/local/lib/python3.11/dist-packages (from streamlit) (5.5.2)\n",
            "Requirement already satisfied: click<9,>=7.0 in /usr/local/lib/python3.11/dist-packages (from streamlit) (8.2.1)\n",
            "Requirement already satisfied: numpy<3,>=1.23 in /usr/local/lib/python3.11/dist-packages (from streamlit) (2.0.2)\n",
            "Requirement already satisfied: packaging<26,>=20 in /usr/local/lib/python3.11/dist-packages (from streamlit) (25.0)\n",
            "Requirement already satisfied: pandas<3,>=1.4.0 in /usr/local/lib/python3.11/dist-packages (from streamlit) (2.2.2)\n",
            "Requirement already satisfied: pillow<12,>=7.1.0 in /usr/local/lib/python3.11/dist-packages (from streamlit) (11.3.0)\n",
            "Requirement already satisfied: protobuf<7,>=3.20 in /usr/local/lib/python3.11/dist-packages (from streamlit) (5.29.5)\n",
            "Requirement already satisfied: pyarrow>=7.0 in /usr/local/lib/python3.11/dist-packages (from streamlit) (18.1.0)\n",
            "Requirement already satisfied: requests<3,>=2.27 in /usr/local/lib/python3.11/dist-packages (from streamlit) (2.32.3)\n",
            "Requirement already satisfied: tenacity<10,>=8.1.0 in /usr/local/lib/python3.11/dist-packages (from streamlit) (8.5.0)\n",
            "Requirement already satisfied: toml<2,>=0.10.1 in /usr/local/lib/python3.11/dist-packages (from streamlit) (0.10.2)\n",
            "Requirement already satisfied: typing-extensions<5,>=4.4.0 in /usr/local/lib/python3.11/dist-packages (from streamlit) (4.14.1)\n",
            "Collecting watchdog<7,>=2.1.5 (from streamlit)\n",
            "  Downloading watchdog-6.0.0-py3-none-manylinux2014_x86_64.whl.metadata (44 kB)\n",
            "\u001b[2K     \u001b[90m━━━━━━━━━━━━━━━━━━━━━━━━━━━━━━━━━━━━━━━━\u001b[0m \u001b[32m44.3/44.3 kB\u001b[0m \u001b[31m2.4 MB/s\u001b[0m eta \u001b[36m0:00:00\u001b[0m\n",
            "\u001b[?25hRequirement already satisfied: gitpython!=3.1.19,<4,>=3.0.7 in /usr/local/lib/python3.11/dist-packages (from streamlit) (3.1.44)\n",
            "Collecting pydeck<1,>=0.8.0b4 (from streamlit)\n",
            "  Downloading pydeck-0.9.1-py2.py3-none-any.whl.metadata (4.1 kB)\n",
            "Requirement already satisfied: tornado!=6.5.0,<7,>=6.0.3 in /usr/local/lib/python3.11/dist-packages (from streamlit) (6.4.2)\n",
            "Requirement already satisfied: PyYAML>=5.1 in /usr/local/lib/python3.11/dist-packages (from pyngrok) (6.0.2)\n",
            "Requirement already satisfied: jinja2 in /usr/local/lib/python3.11/dist-packages (from altair<6,>=4.0->streamlit) (3.1.6)\n",
            "Requirement already satisfied: jsonschema>=3.0 in /usr/local/lib/python3.11/dist-packages (from altair<6,>=4.0->streamlit) (4.25.0)\n",
            "Requirement already satisfied: narwhals>=1.14.2 in /usr/local/lib/python3.11/dist-packages (from altair<6,>=4.0->streamlit) (1.48.0)\n",
            "Requirement already satisfied: gitdb<5,>=4.0.1 in /usr/local/lib/python3.11/dist-packages (from gitpython!=3.1.19,<4,>=3.0.7->streamlit) (4.0.12)\n",
            "Requirement already satisfied: python-dateutil>=2.8.2 in /usr/local/lib/python3.11/dist-packages (from pandas<3,>=1.4.0->streamlit) (2.9.0.post0)\n",
            "Requirement already satisfied: pytz>=2020.1 in /usr/local/lib/python3.11/dist-packages (from pandas<3,>=1.4.0->streamlit) (2025.2)\n",
            "Requirement already satisfied: tzdata>=2022.7 in /usr/local/lib/python3.11/dist-packages (from pandas<3,>=1.4.0->streamlit) (2025.2)\n",
            "Requirement already satisfied: charset-normalizer<4,>=2 in /usr/local/lib/python3.11/dist-packages (from requests<3,>=2.27->streamlit) (3.4.2)\n",
            "Requirement already satisfied: idna<4,>=2.5 in /usr/local/lib/python3.11/dist-packages (from requests<3,>=2.27->streamlit) (3.10)\n",
            "Requirement already satisfied: urllib3<3,>=1.21.1 in /usr/local/lib/python3.11/dist-packages (from requests<3,>=2.27->streamlit) (2.5.0)\n",
            "Requirement already satisfied: certifi>=2017.4.17 in /usr/local/lib/python3.11/dist-packages (from requests<3,>=2.27->streamlit) (2025.7.14)\n",
            "Requirement already satisfied: smmap<6,>=3.0.1 in /usr/local/lib/python3.11/dist-packages (from gitdb<5,>=4.0.1->gitpython!=3.1.19,<4,>=3.0.7->streamlit) (5.0.2)\n",
            "Requirement already satisfied: MarkupSafe>=2.0 in /usr/local/lib/python3.11/dist-packages (from jinja2->altair<6,>=4.0->streamlit) (3.0.2)\n",
            "Requirement already satisfied: attrs>=22.2.0 in /usr/local/lib/python3.11/dist-packages (from jsonschema>=3.0->altair<6,>=4.0->streamlit) (25.3.0)\n",
            "Requirement already satisfied: jsonschema-specifications>=2023.03.6 in /usr/local/lib/python3.11/dist-packages (from jsonschema>=3.0->altair<6,>=4.0->streamlit) (2025.4.1)\n",
            "Requirement already satisfied: referencing>=0.28.4 in /usr/local/lib/python3.11/dist-packages (from jsonschema>=3.0->altair<6,>=4.0->streamlit) (0.36.2)\n",
            "Requirement already satisfied: rpds-py>=0.7.1 in /usr/local/lib/python3.11/dist-packages (from jsonschema>=3.0->altair<6,>=4.0->streamlit) (0.26.0)\n",
            "Requirement already satisfied: six>=1.5 in /usr/local/lib/python3.11/dist-packages (from python-dateutil>=2.8.2->pandas<3,>=1.4.0->streamlit) (1.17.0)\n",
            "Downloading streamlit-1.47.0-py3-none-any.whl (9.9 MB)\n",
            "\u001b[2K   \u001b[90m━━━━━━━━━━━━━━━━━━━━━━━━━━━━━━━━━━━━━━━━\u001b[0m \u001b[32m9.9/9.9 MB\u001b[0m \u001b[31m50.7 MB/s\u001b[0m eta \u001b[36m0:00:00\u001b[0m\n",
            "\u001b[?25hDownloading pyngrok-7.2.12-py3-none-any.whl (26 kB)\n",
            "Downloading pydeck-0.9.1-py2.py3-none-any.whl (6.9 MB)\n",
            "\u001b[2K   \u001b[90m━━━━━━━━━━━━━━━━━━━━━━━━━━━━━━━━━━━━━━━━\u001b[0m \u001b[32m6.9/6.9 MB\u001b[0m \u001b[31m55.5 MB/s\u001b[0m eta \u001b[36m0:00:00\u001b[0m\n",
            "\u001b[?25hDownloading watchdog-6.0.0-py3-none-manylinux2014_x86_64.whl (79 kB)\n",
            "\u001b[2K   \u001b[90m━━━━━━━━━━━━━━━━━━━━━━━━━━━━━━━━━━━━━━━━\u001b[0m \u001b[32m79.1/79.1 kB\u001b[0m \u001b[31m4.4 MB/s\u001b[0m eta \u001b[36m0:00:00\u001b[0m\n",
            "\u001b[?25hInstalling collected packages: watchdog, pyngrok, pydeck, streamlit\n",
            "Successfully installed pydeck-0.9.1 pyngrok-7.2.12 streamlit-1.47.0 watchdog-6.0.0\n"
          ]
        }
      ],
      "source": [
        "!pip install streamlit pyngrok\n"
      ]
    },
    {
      "cell_type": "code",
      "source": [
        "# Create chatbot file with rich styles\n",
        "chatbot_code = \"\"\"\n",
        "import streamlit as st\n",
        "\n",
        "st.set_page_config(page_title=\"📚 Library Chatbot\", layout=\"centered\")\n",
        "\n",
        "# 🌈 Custom CSS Styling\n",
        "st.markdown(\\\"\\\"\\\"\n",
        "    <style>\n",
        "        body {\n",
        "            background-color: #f7f9fc;\n",
        "        }\n",
        "\n",
        "        .chat-container {\n",
        "            display: flex;\n",
        "            flex-direction: column;\n",
        "            margin-top: 30px;\n",
        "        }\n",
        "\n",
        "        .chat-bubble {\n",
        "            padding: 14px 18px;\n",
        "            margin: 10px 0;\n",
        "            border-radius: 20px;\n",
        "            font-size: 16px;\n",
        "            line-height: 1.6;\n",
        "            max-width: 85%;\n",
        "            transition: all 0.3s ease-in-out;\n",
        "        }\n",
        "\n",
        "        .user {\n",
        "            background: linear-gradient(to right, #a1c4fd, #c2e9fb);\n",
        "            color: black;\n",
        "            align-self: flex-end;\n",
        "            text-align: right;\n",
        "            border: 1px solid #87cefa;\n",
        "        }\n",
        "\n",
        "        .bot {\n",
        "            background: linear-gradient(to right, #fbc2eb, #a6c1ee);\n",
        "            color: black;\n",
        "            align-self: flex-start;\n",
        "            text-align: left;\n",
        "            border: 1px solid #da70d6;\n",
        "        }\n",
        "\n",
        "        input {\n",
        "            font-size: 16px !important;\n",
        "        }\n",
        "\n",
        "        .header-text {\n",
        "            text-align: center;\n",
        "            font-size: 36px;\n",
        "            font-weight: bold;\n",
        "            background: linear-gradient(to right, #30cfd0 0%, #330867 100%);\n",
        "            -webkit-background-clip: text;\n",
        "            -webkit-text-fill-color: transparent;\n",
        "            margin-top: 20px;\n",
        "        }\n",
        "\n",
        "        .sub-text {\n",
        "            text-align: center;\n",
        "            font-size: 18px;\n",
        "            color: #555;\n",
        "            margin-bottom: 30px;\n",
        "        }\n",
        "    </style>\n",
        "\\\"\\\"\\\", unsafe_allow_html=True)\n",
        "\n",
        "# 💬 Header\n",
        "st.markdown(\"<div class='header-text'>🤖 Welcome to the Library Chatbot</div>\", unsafe_allow_html=True)\n",
        "st.markdown(\"<div class='sub-text'>Ask anything about our college library</div>\", unsafe_allow_html=True)\n",
        "\n",
        "if \"messages\" not in st.session_state:\n",
        "    st.session_state.messages = []\n",
        "# Bot logic\n",
        "def get_response(user_input):\n",
        "    user_input = user_input.lower()\n",
        "\n",
        "    if \"hello\" in user_input or \"hi\" in user_input:\n",
        "        return \"Hello! Welcome to the college library. How can I assist you today?\"\n",
        "\n",
        "    elif \"timing\" in user_input or \"open\" in user_input:\n",
        "        return \"The library is open from 9 AM to 5 PM, Monday to Friday.\"\n",
        "\n",
        "    elif \"close\" in user_input:\n",
        "        return \"The library is closed on Saturdays and Sundays.\"\n",
        "\n",
        "    elif \"borrow\" in user_input or \"take book\" in user_input:\n",
        "        return \"To borrow a book, bring your ID card and fill out the borrow slip at the counter.\"\n",
        "\n",
        "    elif \"return\" in user_input:\n",
        "        return \"Books must be returned within 14 days to avoid fines.\"\n",
        "\n",
        "    elif \"librarian\" in user_input or \"staff\" in user_input:\n",
        "        return \"Mrs. Lakshmi is our librarian. She is available at the front desk.\"\n",
        "\n",
        "    elif \"available\" in user_input or \"have book\" in user_input:\n",
        "        return \"You can check book availability using the online catalog or ask the librarian.\"\n",
        "\n",
        "    elif \"fine\" in user_input:\n",
        "        return \"Late returns are fined ₹2 per day after the due date.\"\n",
        "\n",
        "    elif \"membership\" in user_input:\n",
        "        return \"Library membership is free for all students. Register at the front desk.\"\n",
        "\n",
        "    elif \"computer\" in user_input:\n",
        "        return \"Yes, we have 10 computers with internet access available for students.\"\n",
        "\n",
        "    elif \"wifi\" in user_input:\n",
        "        return \"Wi-Fi is available. Ask the librarian for the password.\"\n",
        "\n",
        "    elif \"sections\" in user_input or \"available books\" in user_input:\n",
        "        return (\n",
        "            \"We have the following sections:\\\\n\"\n",
        "            \"- Science & Technology\\\\n\"\n",
        "            \"- Arts & Novels\\\\n\"\n",
        "            \"- Journals\\\\n\"\n",
        "            \"- Digital Archives\"\n",
        "        )\n",
        "\n",
        "    elif \"rules\" in user_input:\n",
        "        return (\n",
        "            \"Library Rules:\\\\n\"\n",
        "            \"1. Maintain silence\\\\n\"\n",
        "            \"2. No food or drinks\\\\n\"\n",
        "            \"3. Return books on time\\\\n\"\n",
        "            \"4. Handle books carefully\"\n",
        "        )\n",
        "\n",
        "    elif \"thank\" in user_input:\n",
        "        return \"You're welcome! Happy reading!\"\n",
        "\n",
        "    else:\n",
        "        return \"I'm not sure about that. Try asking something related to the library.\"\n",
        "\n",
        "# User input\n",
        "user_input = st.text_input(\"Type your message here...\", \"\")\n",
        "\n",
        "if user_input:\n",
        "    # Store user message\n",
        "    st.session_state.messages.append({\"role\": \"user\", \"text\": user_input})\n",
        "    # Get bot response\n",
        "    response = get_response(user_input)\n",
        "    st.session_state.messages.append({\"role\": \"bot\", \"text\": response})\n",
        "\n",
        "# Display chat\n",
        "st.markdown(\"<div class='chat-container'>\", unsafe_allow_html=True)\n",
        "for msg in st.session_state.messages:\n",
        "    role_class = \"user\" if msg[\"role\"] == \"user\" else \"bot\"\n",
        "    st.markdown(f\"<div class='chat-bubble {role_class}'>{msg['text']}</div>\", unsafe_allow_html=True)\n",
        "st.markdown(\"</div>\", unsafe_allow_html=True) \"\"\"\n"
      ],
      "metadata": {
        "id": "C6AwVv0ns-tQ"
      },
      "execution_count": 45,
      "outputs": []
    },
    {
      "cell_type": "code",
      "source": [
        "with open(\"app.py\", \"w\") as f:\n",
        "    f.write(chatbot_code)\n"
      ],
      "metadata": {
        "id": "BGW7UBtm0eIb"
      },
      "execution_count": 46,
      "outputs": []
    },
    {
      "cell_type": "code",
      "source": [
        "!ngrok config add-authtoken 30JeYKEehQbCVGAiD6qOg03YQvP_3dnUCa9kXokBFbPs4Yab2\n"
      ],
      "metadata": {
        "colab": {
          "base_uri": "https://localhost:8080/"
        },
        "id": "Ftm4YZvs7OuD",
        "outputId": "fd4ebc9d-11c1-4623-92dc-c647670fa371"
      },
      "execution_count": 11,
      "outputs": [
        {
          "output_type": "stream",
          "name": "stdout",
          "text": [
            "Authtoken saved to configuration file: /root/.config/ngrok/ngrok.yml\n"
          ]
        }
      ]
    },
    {
      "cell_type": "code",
      "metadata": {
        "id": "5e57a06c"
      },
      "source": [
        "# Import modules\n",
        "from google.colab import userdata\n",
        "from pyngrok import ngrok\n",
        "\n",
        "# Get ngrok auth token from Colab secrets\n",
        "NGROK_AUTH_TOKEN = userdata.get('NGROK_AUTH_TOKEN')\n",
        "\n",
        "# Set the auth token for ngrok\n",
        "ngrok.set_auth_token(NGROK_AUTH_TOKEN)\n"
      ],
      "execution_count": null,
      "outputs": []
    },
    {
      "cell_type": "code",
      "source": [
        "!pip install -q streamlit pyngrok\n",
        "from pyngrok import ngrok\n",
        "import threading\n",
        "\n",
        "def run_app():\n",
        "    !streamlit run app.py &> logs.txt\n",
        "\n",
        "threading.Thread(target=run_app).start()\n",
        "public_url = ngrok.connect(8501)\n",
        "print(\"Your chatbot is live at:\", public_url)\n"
      ],
      "metadata": {
        "colab": {
          "base_uri": "https://localhost:8080/"
        },
        "id": "znFVQNDF0jng",
        "outputId": "2a84b9e8-13b4-421b-b327-cbd140b2f816"
      },
      "execution_count": 51,
      "outputs": [
        {
          "output_type": "stream",
          "name": "stdout",
          "text": [
            "Your chatbot is live at: NgrokTunnel: \"https://475ac7140efe.ngrok-free.app\" -> \"http://localhost:8501\"\n"
          ]
        }
      ]
    }
  ]
}